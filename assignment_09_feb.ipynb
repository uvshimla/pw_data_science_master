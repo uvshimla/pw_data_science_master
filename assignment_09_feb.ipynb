{
 "cells": [
  {
   "cell_type": "code",
   "execution_count": 1,
   "metadata": {},
   "outputs": [],
   "source": [
    "###Q1, Create a vehicle class with an init method having instance variables as name_of_vehicle, max_speed and average_of_vehicle.\n"
   ]
  },
  {
   "cell_type": "code",
   "execution_count": 3,
   "metadata": {},
   "outputs": [],
   "source": [
    "class Vehicle:\n",
    "    def __init__(self, name_of_vehicle, max_speed, average_of_vehicle):\n",
    "        self.name_of_vehicle = name_of_vehicle\n",
    "        self.max_speed = max_speed\n",
    "        self.average_of_vehicle = average_of_vehicle\n"
   ]
  },
  {
   "cell_type": "code",
   "execution_count": 6,
   "metadata": {},
   "outputs": [
    {
     "name": "stdout",
     "output_type": "stream",
     "text": [
      "Car\n",
      "200\n",
      "30\n"
     ]
    }
   ],
   "source": [
    "car = Vehicle(\"Car\", 200, 30)\n",
    "print(car.name_of_vehicle) # \"Car\"\n",
    "print(car.max_speed) # 200\n",
    "print(car.average_of_vehicle) # 30\n"
   ]
  },
  {
   "cell_type": "code",
   "execution_count": 7,
   "metadata": {},
   "outputs": [],
   "source": [
    "####Q2. Create a child class car from the vehicle class created in Que 1, which will inherit the vehicle class. \n",
    "# Create a method named seating_capacity which takes capacity as an argument and returns the name of\n",
    "###the vehicle and its seating capacity."
   ]
  },
  {
   "cell_type": "code",
   "execution_count": 8,
   "metadata": {},
   "outputs": [],
   "source": [
    "class Car(Vehicle):\n",
    "    def seating_capacity(self, capacity):\n",
    "        return f\"The {self.name_of_vehicle} has a seating capacity of {capacity}\"\n"
   ]
  },
  {
   "cell_type": "code",
   "execution_count": 9,
   "metadata": {},
   "outputs": [
    {
     "name": "stdout",
     "output_type": "stream",
     "text": [
      "The Sedan has a seating capacity of 5\n",
      "Sedan\n",
      "25\n",
      "220\n"
     ]
    }
   ],
   "source": [
    "my_car = Car(\"Sedan\", 220, 25)\n",
    "print(my_car.seating_capacity(5)) \n",
    "print(my_car.name_of_vehicle) \n",
    "\n",
    "print(my_car.average_of_vehicle) \n",
    "print(my_car.max_speed) \n"
   ]
  },
  {
   "cell_type": "code",
   "execution_count": 11,
   "metadata": {},
   "outputs": [],
   "source": [
    "#Q3. What is multiple inheritance? Write a python code to demonstrate multiple inheritance."
   ]
  },
  {
   "cell_type": "code",
   "execution_count": 12,
   "metadata": {},
   "outputs": [
    {
     "name": "stdout",
     "output_type": "stream",
     "text": [
      "4\n",
      "Engine started\n",
      "The car is red in color\n",
      "red\n",
      "300\n",
      "8\n"
     ]
    }
   ],
   "source": [
    "class Engine:\n",
    "    def __init__(self, horsepower, cylinders):\n",
    "        self.horsepower = horsepower\n",
    "        self.cylinders = cylinders\n",
    "        \n",
    "    def start(self):\n",
    "        return \"Engine started\"\n",
    "\n",
    "class CarBody:\n",
    "    def __init__(self, color, doors):\n",
    "        self.color = color\n",
    "        self.doors = doors\n",
    "        \n",
    "    def show_color(self):\n",
    "        return f\"The car is {self.color} in color\"\n",
    "\n",
    "class Car(Engine, CarBody):\n",
    "    def __init__(self, horsepower, cylinders, color, doors):\n",
    "        Engine.__init__(self, horsepower, cylinders)\n",
    "        CarBody.__init__(self, color, doors)\n",
    "\n",
    "my_car = Car(300, 8, \"red\", 4)\n",
    "print(my_car.doors) \n",
    "print(my_car.start()) \n",
    "print(my_car.show_color()) \n",
    "print(my_car.color) \n",
    "print(my_car.horsepower) \n",
    "print(my_car.cylinders) \n",
    "\n",
    "\n"
   ]
  },
  {
   "cell_type": "code",
   "execution_count": 13,
   "metadata": {},
   "outputs": [],
   "source": [
    "#Q4. What are getter and setter in python? Create a class and create a getter and a setter method in this\n",
    "#class."
   ]
  },
  {
   "cell_type": "code",
   "execution_count": 14,
   "metadata": {},
   "outputs": [
    {
     "name": "stdout",
     "output_type": "stream",
     "text": [
      "red\n",
      "blue\n",
      "4\n",
      "2\n"
     ]
    }
   ],
   "source": [
    "class Car:\n",
    "    def __init__(self, color, doors):\n",
    "        self._color = color\n",
    "        self._doors = doors\n",
    "        \n",
    "    @property\n",
    "    def color(self):\n",
    "        return self._color\n",
    "    \n",
    "    @color.setter\n",
    "    def color(self, value):\n",
    "        self._color = value\n",
    "        \n",
    "    @property\n",
    "    def doors(self):\n",
    "        return self._doors\n",
    "    \n",
    "    @doors.setter\n",
    "    def doors(self, value):\n",
    "        self._doors = value\n",
    "my_car.doors = 2\n",
    "print(my_car.doors) \n",
    "my_car = Car(\"red\", 4)\n",
    "print(my_car.color) \n",
    "my_car.color = \"blue\"\n",
    "print(my_car.color) \n",
    "print(my_car.doors) \n",
    "\n"
   ]
  },
  {
   "cell_type": "code",
   "execution_count": 15,
   "metadata": {},
   "outputs": [],
   "source": [
    "#Q5.What is method overriding in python? Write a python code to demonstrate method overriding."
   ]
  },
  {
   "cell_type": "code",
   "execution_count": 16,
   "metadata": {},
   "outputs": [
    {
     "name": "stdout",
     "output_type": "stream",
     "text": [
      "Sedan in red color is moving at 220 km/hr\n"
     ]
    }
   ],
   "source": [
    "class Vehicle:\n",
    "    def __init__(self, name_of_vehicle, max_speed, average_of_vehicle):\n",
    "        self.name_of_vehicle = name_of_vehicle\n",
    "        self.max_speed = max_speed\n",
    "        self.average_of_vehicle = average_of_vehicle\n",
    "        \n",
    "    def move(self):\n",
    "        return f\"{self.name_of_vehicle} is moving at {self.max_speed} km/hr\"\n",
    "\n",
    "class Car(Vehicle):\n",
    "    def __init__(self, name_of_vehicle, max_speed, average_of_vehicle, color):\n",
    "        Vehicle.__init__(self, name_of_vehicle, max_speed, average_of_vehicle)\n",
    "        self.color = color\n",
    "        \n",
    "    def move(self):\n",
    "        return f\"{self.name_of_vehicle} in {self.color} color is moving at {self.max_speed} km/hr\"\n",
    "\n",
    "my_car = Car(\"Sedan\", 220, 25, \"red\")\n",
    "print(my_car.move()) \n"
   ]
  },
  {
   "cell_type": "code",
   "execution_count": null,
   "metadata": {},
   "outputs": [],
   "source": []
  }
 ],
 "metadata": {
  "kernelspec": {
   "display_name": "Python 3.8.10 64-bit",
   "language": "python",
   "name": "python3"
  },
  "language_info": {
   "codemirror_mode": {
    "name": "ipython",
    "version": 3
   },
   "file_extension": ".py",
   "mimetype": "text/x-python",
   "name": "python",
   "nbconvert_exporter": "python",
   "pygments_lexer": "ipython3",
   "version": "3.8.10"
  },
  "orig_nbformat": 4,
  "vscode": {
   "interpreter": {
    "hash": "e7370f93d1d0cde622a1f8e1c04877d8463912d04d973331ad4851f04de6915a"
   }
  }
 },
 "nbformat": 4,
 "nbformat_minor": 2
}
